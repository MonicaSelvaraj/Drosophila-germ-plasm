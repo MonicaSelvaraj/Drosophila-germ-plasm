{
 "cells": [
  {
   "cell_type": "markdown",
   "metadata": {},
   "source": [
    "# Effects of aging on Drosophila germ granule morphology and aggregation #\n",
    "\n",
    "### Table of Contents\n",
    "1. [Using cluster analysis to identify individual germ granules in aged and wild type Drosophila germ plasm](#1.-Using-cluster-analysis-to-identify-individual-germ-granules-in-aged-and-wild-type-Drosophila-germ-plasm)\n",
    " 1. [Data acquisition and feature extraction](#A.-Data-acquisition-and-feature-extraction)\n",
    " 1. [Introduction to cluster analysis and suitability of density based clustering to identify individual granules in the 3D point cloud](#B.-Introduction-to-cluster-analysis-and-suitability-of-density-based-clustering-to-identify-individual-granules-in-the-3D-point-cloud)\n",
    " 1. [Discussion of density based clustering algorithms](#C.-Discussion-of-density-based-clustering-algorithms)\n",
    " 1. [Comparison of density based clustering algorithms and parameter selection using the Silhouette coefficient](#D.-Comparison-of-density-based-clustering-algorithms-and-parameter-selection-using-the-Silhouette-coefficient)\n",
    " 1. [Preliminary Results](#E.-Preliminary-Results)\n",
    " 1. [Directions](#F.-Directions)"
   ]
  },
  {
   "cell_type": "markdown",
   "metadata": {},
   "source": [
    "## 1. Using cluster analysis to identify individual germ granules in aged and wild type Drosophila germ plasm ##"
   ]
  },
  {
   "cell_type": "markdown",
   "metadata": {},
   "source": [
    "### A. Data acquisition and feature extraction ###\n",
    "Structured illumination microscopy was used to obtain z-stacks of vasaGFP and oskGFP polar granules in the germ plasm of Drosophila embryos. Each z-slice is a 16 bit grayscale image. The z-stack is like a three dimensional matrix of scalar intensity values ranging from 0-65535. Using the gray level stack histogram, Yen thresholding was applied to the z-stack to eliminate background fluorescence. The thresholded stack is like a binary three dimensional matrix in which entries of zero represent background and 1(or 65535) represents foreground. The location of high fluorescent intensity regions, i.e. foreground, was extracted from the sparse binary matrix. Row number, column number and z-slice number of high fluorescent intensity regions,  scaled to reflect biological size, was used as x, y, and z dimensional data respectively. In this way the binary sparse matrix is converted to a 3D point cloud. The conversion of the z-stack to a 3D point cloud is convenient for further computational analysis as it removes the need to manipulate large three dimensional matrices and allows us to consider only regions of fluorescence within the matrix. \n",
    "\n"
   ]
  },
  {
   "cell_type": "markdown",
   "metadata": {},
   "source": [
    "### B. Introduction to cluster analysis and suitability of density based clustering to identify individual granules in the 3D point cloud ###\n",
    "While the goal of supervised machine learning is to learn the function that was used to assign labels to a dataset so that new data can be categorized accurately, unsupervised machine learning tries to assign labels to data given no a-priori knowledge about the categories to which they belong. Clustering is an unsupervised machine learning task, which can be formulated as an optimization problem. Variability of a cluster, V, and dissimilarity  of the set of clusters obtained, D, are the metrics of the optimization problem.\n",
    "\n",
    "\n",
    "$$\\begin{aligned}\n",
    "\\text{Let n be the number of data points.} \\\\\n",
    "\\text{Let c represent a single cluster.} \\\\\n",
    "\\text{Let C represent a set of clusters.} \\\\\n",
    "\\text{The variability of a cluster:} \\\\\n",
    "V(c) \\ &= \\sum_{e\\in c} distance(mean(c),e)^2 \\\\\n",
    "\\text{where e is every data point in the cluster.} \\\\\n",
    "\\text{The dissimilarity of a set of clusters:} \\\\\n",
    "D(C) \\ &= \\sum_{c\\in C} V(c) \\\\\n",
    "\\text{We want to find a set of clusters such that:} \\\\\n",
    "  {\\text{minimize}}\\qquad& D(C) \\\\\n",
    "    \\text{subject to:}\\qquad& the\\ number\\ of\\ clusters\\ \\le n \\\\\n",
    "    \\end{aligned}$$\n",
    "(Algorithm adapted from [MIT OCW 6.0002 Lecture 12](https://www.youtube.com/watch?v=esmzYhuFnds&t=475s&frags=pl%2Cwn.pdf) )\n",
    "\n",
    "KMeans and Hierarchical Agglomerative Clustering are two common clustering algorithms based on these metrics. The drawbacks of these algorithms are that they can only be applied when we expect clusters to be globular and we know the number of clusters beforehand. Density based clustering algorithms, designed to cluster regions of high density separated by regions of low density, are well suited for clustering point clouds with no prior knowledge of the number or  shape of clusters. Density based clustering is best suited to identify individual germ granules in wild type and aged Drosophila embryos since we have little a-priori knowledge about the number, size and morphology of these granules. "
   ]
  },
  {
   "cell_type": "markdown",
   "metadata": {},
   "source": [
    "### C. Discussion of density based clustering algorithms ###\n",
    "\n",
    "#### a. DBSCAN (Density based spatial clustering of applications with noise)  ####\n",
    "\n",
    "\n",
    "Quick links: \n",
    "([DBSCAN wiki](https://en.wikipedia.org/wiki/DBSCAN))\n",
    "([Original paper](https://www.aaai.org/Papers/KDD/1996/KDD96-037.pdf)) \n",
    "([Visualize DBSCAN in action](https://www.naftaliharris.com/blog/visualizing-dbscan-clustering/))\n",
    "\n",
    "#### c. HDBSCAN (Hierarchical density based spatial clustering of applications with noise)  ####\n",
    "\n",
    "Quick links: \n",
    "([How HDBSCAN works](https://hdbscan.readthedocs.io/en/latest/how_hdbscan_works.html)) \n",
    "([Original paper](https://link.springer.com/chapter/10.1007/978-3-642-37456-2_14))\n",
    "\n",
    "Notes on the process:\n",
    "Overcomes the drawbacks of DBSCAN by converting it into a hierarchical clustering algorithm, and then extracts flat clusters from the hierarchy. \n",
    "\n",
    "Steps of HDBSCAN: \n",
    "- Transform the space according to the density/sparsity.\n",
    "- Build the minimum spanning tree of the distance weighted graph.\n",
    "- Construct a cluster hierarchy of connected components.\n",
    "- Condense the cluster hierarchy based on minimum cluster size.\n",
    "- Extract the stable clusters from the condensed tree.\n",
    "\n",
    "Transform the space based on density \n",
    "Assign values to points depending on the density of points around it.\n",
    "An inexpensive estimate of density is the kth nearest neighbor.\n",
    "We define core distance for a parameter k for every point in the space as:\n",
    "Define a new distance metric called mutual reachability distance:\n",
    "\n",
    "Core distance - defined for every point \n",
    "Mutual reachability distance - defined between pairs of points \n",
    "\n",
    "Dense points remain the same distance from each other but sparser points are pushed futher away in this transformed space. \n",
    "\n",
    "better allows us to estimate the hierarchy of the true density distribution from which the points were drawn under this transformed space. \n",
    "\n",
    "A fully connected graph based on mutual reachability distances is constructed \n",
    "\n",
    "Obtain the MST of the compete graph\n",
    "what is a MST? - A MST is a subset of the edges of a connected graph that connects all the vertices together, without any cycles, with the minimum total weight possible. \n",
    "\n",
    "It is a way of reducing the computational complexity but ensuring all points are connected. \n",
    "It eases the process of building a hierarchy becuase if one edge is removed, two connected componenets are obtained.\n",
    "\n",
    "\n",
    "Consider having a threshold value that is initially high and is lowered\n",
    "as we drop edges we will start to disconnect the graph into connected componenets - and evetually we will have a hierarchy of connected components at varying threshold levels/ corresponding to various epsilons \n",
    "\n",
    "Getting a set of flat clusters from the hierarchy\n",
    "DBSCAN draws a line through for a constant epsilon and takes those clusters\n",
    "\n",
    "We want to do better\n",
    "First prune the tree - we need to define minimum cluster size \n",
    "prune off the clusters that are smaller than minimum clsuter size \n",
    "think of points falling out of a cluster as we decrease epsilon \n",
    "unless the points falling off are big enough to be considered as a separate cluster, we keep it with the same cluster.\n",
    "\n",
    "width of the line represents the number of points in the cluster \n",
    "each node has data about how the size of the cluster decreases over varying distance \n",
    "\n",
    "min cluster size = 5\n",
    "\n",
    "we then chose the number of clustes that persist and have a longer lifetime \n",
    "and if you select a cluster, you can't select any of its descendants \n",
    "\n",
    "\n",
    "Silhouette\n",
    "it is a measure of how well each data point has been clusterd, or a meausre \n",
    "\n",
    "\n",
    "\n"
   ]
  },
  {
   "cell_type": "markdown",
   "metadata": {},
   "source": [
    "### D. Comparison of density based clustering algorithms and parameter selection using the Silhouette coefficient  ###"
   ]
  },
  {
   "cell_type": "markdown",
   "metadata": {},
   "source": [
    "### E. Preliminary Results ###"
   ]
  },
  {
   "cell_type": "markdown",
   "metadata": {},
   "source": [
    "### F. Directions ###"
   ]
  },
  {
   "cell_type": "code",
   "execution_count": null,
   "metadata": {},
   "outputs": [],
   "source": []
  }
 ],
 "metadata": {
  "kernelspec": {
   "display_name": "Python 3",
   "language": "python",
   "name": "python3"
  },
  "language_info": {
   "codemirror_mode": {
    "name": "ipython",
    "version": 3
   },
   "file_extension": ".py",
   "mimetype": "text/x-python",
   "name": "python",
   "nbconvert_exporter": "python",
   "pygments_lexer": "ipython3",
   "version": "3.6.7"
  }
 },
 "nbformat": 4,
 "nbformat_minor": 2
}
